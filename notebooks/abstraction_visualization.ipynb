{
 "cells": [
  {
   "cell_type": "markdown",
   "metadata": {},
   "source": [
    "# Card Abstraction Visualization\n",
    "Background: I first went through `abstraction_exploration.ipynb` to better understand how many clusters I should be using for K-Means clustering, concluding that 100 clusters per game stage was a good number using the elbow method.\n",
    "\n",
    "Using `abstraction.py`, I then randomly generated 100,000 hands per game stage (flop/turn/river), and then generated the clusters on this data using K-Means Clustering using the euclidean distance, which are found in the `data/clusters` folder. \n",
    "\n",
    "Now, in this notebook, I attempt to visualize the clusters generated."
   ]
  },
  {
   "cell_type": "code",
   "execution_count": 18,
   "metadata": {},
   "outputs": [],
   "source": [
    "import joblib\n",
    "from sklearn.cluster import KMeans\n",
    "import numpy as np\n",
    "import matplotlib.pyplot as plt\n",
    "import sys\n",
    "sys.path.append('../src')"
   ]
  },
  {
   "cell_type": "markdown",
   "metadata": {},
   "source": [
    "# Flop Visualization"
   ]
  },
  {
   "cell_type": "code",
   "execution_count": 4,
   "metadata": {},
   "outputs": [],
   "source": [
    "flop_kmeans = joblib.load('../kmeans_data/kmeans/flop/kmeans_1719903872_samples=10000_bins=10.joblib')\n",
    "flop_raw_data = np.load('../kmeans_data/distributions/flop/1719903872_samples=10000_bins=10.npy')\n",
    "flop_cards = np.load('../kmeans_data/cards/flop/1719903872_samples=10000_bins=10.npy')"
   ]
  },
  {
   "cell_type": "code",
   "execution_count": 5,
   "metadata": {},
   "outputs": [],
   "source": [
    "# Convert histograms to EHS\n",
    "ehs_flop_raw_data = (flop_raw_data * np.array([0.05, 0.15, 0.25, 0.35, 0.45, 0.55, 0.65, 0.75, 0.85, 0.95])).sum(axis=1)"
   ]
  },
  {
   "cell_type": "code",
   "execution_count": 6,
   "metadata": {},
   "outputs": [
    {
     "data": {
      "text/plain": [
       "array([ 5, 25, 38, ..., 39, 25,  9], dtype=int32)"
      ]
     },
     "execution_count": 6,
     "metadata": {},
     "output_type": "execute_result"
    }
   ],
   "source": [
    "kmeans = flop_kmeans\n",
    "assert(len(kmeans.cluster_centers_) == 50)\n",
    "flop_kmeans_centroids = kmeans.cluster_centers_\n",
    "\n",
    "flop_raw_data_classes = kmeans.predict(flop_raw_data)\n",
    "flop_raw_data_classes"
   ]
  },
  {
   "cell_type": "code",
   "execution_count": 19,
   "metadata": {},
   "outputs": [
    {
     "name": "stdout",
     "output_type": "stream",
     "text": [
      "Loading KMeans Flop Classifier kmeans_1719903872_samples=10000_bins=10.joblib\n",
      "Loading KMeans Turn Classifier kmeans_1719904417_samples=10000_bins=10.joblib\n"
     ]
    }
   ],
   "source": [
    "from abstraction import calculate_equity_distribution"
   ]
  },
  {
   "cell_type": "code",
   "execution_count": 27,
   "metadata": {},
   "outputs": [
    {
     "data": {
      "text/plain": [
       "<BarContainer object of 10 artists>"
      ]
     },
     "execution_count": 27,
     "metadata": {},
     "output_type": "execute_result"
    },
    {
     "data": {
      "image/png": "[encoded data removed]",
      "text/plain": [
       "<Figure size 640x480 with 1 Axes>"
      ]
     },
     "metadata": {},
     "output_type": "display_data"
    }
   ],
   "source": [
    "cards = '7s 9s 8h 3c Ts'\n",
    "# cards = '6s 3s 8h 5s Js'\n",
    "plt.bar([i for i in range(10)], calculate_equity_distribution(cards.split(' ')[:2], cards.split(' ')[2:]))"
   ]
  },
  {
   "cell_type": "code",
   "execution_count": 31,
   "metadata": {},
   "outputs": [
    {
     "data": {
      "text/plain": [
       "<BarContainer object of 10 artists>"
      ]
     },
     "execution_count": 31,
     "metadata": {},
     "output_type": "execute_result"
    },
    {
     "data": {
      "image/png": "[encoded data removed]",
      "text/plain": [
       "<Figure size 640x480 with 1 Axes>"
      ]
     },
     "metadata": {},
     "output_type": "display_data"
    }
   ],
   "source": [
    "cards = 'Ah 7s Qc 3h 5s'\n",
    "plt.bar([i for i in range(10)], calculate_equity_distribution(cards.split(' ')[:2], cards.split(' ')[2:]))"
   ]
  },
  {
   "cell_type": "code",
   "execution_count": 16,
   "metadata": {},
   "outputs": [
    {
     "data": {
      "text/plain": [
       "array(['7s 9s 8h 3c Ts', '6s 3s 8h 5s Js', '8h 5d 6h Qh 4h',\n",
       "       '5s 7s 2s Ts 4c', '2s 9s 8s 5s 4d', '3d 8d Qh 5d 9d',\n",
       "       'Jd 5d 7c 6h 4d', 'Js 3s Ks Tc 9c', '9s 8s Tc 5s 3s',\n",
       "       '9h Th 3s 8c 7c', '8s 9c Js 4d Td', 'Td 9c 4c 7c 8s',\n",
       "       '8s 9h Qs Td 6h', '3c 8c 6c 2c Ah', '8c 6s 7s 5d 5c',\n",
       "       '6c 9c 4c Td 3c', '8d Ks 6s 4h 5h', '6c Ts 5c 7h 8s',\n",
       "       'Jd 6c 4c 3c 5d', '5s 6s Ac Ts 3s', '8s 6s 9h 7h Ks',\n",
       "       '5s 3s 2c 4s 9s', '8s 7s Td Ah 9h', 'Td 7s 9s 5d 8d',\n",
       "       '8d 7h 5d 9d Js', '5c 9c Jc 2s 3c', '7c 2c 6d 8c 4c',\n",
       "       '6d Td Ad 8h 7c', '7c Ts 9s 3d 8c', 'Jc 9h 6c 8s Td',\n",
       "       '9h Ts 8d 6c Jd', 'Td 6s 7d 4d 3d', '6c Jd 9c 8s Th',\n",
       "       '8s 3s 7s Qs 5h', '2s 4s Ts As 3h', '5h 4h Ah 2d 7h',\n",
       "       '8h 2h 4h 9s Qh', '7c 9h 4c Ts 8c', '7s Td 6s 8d Ad',\n",
       "       'Th 4d 9c Js 8h', '8s 4s Jh 6s 2s', '8c 9s Jc 7d 6c',\n",
       "       '9s Jc 5c Tc 7s', '7c 6c 3c 9d 2c', '8c 9s 6c 7s Js',\n",
       "       '7d 4d 9c 5d 9d', 'Ts 8s 6d Jd 9h', '6h 8c 9d 7h Jh',\n",
       "       '5s 9d 8s 7s Jc', 'Ts 8c 9d 5c 7c', '8h 7d Ah Tc 9d',\n",
       "       'Js 5h 6c 3c 4h', '4c 9d 8c 7h Td', '8c 3c Kc Jh 4c',\n",
       "       'Jd Qd 6s 8h Th', '6d Ts 4h 7c 8h', '6d Jh 4s 7c 5c',\n",
       "       '9d 7d 6s Ac 8d', '9d 7d 8h Ac 6h', 'Jd 5c 3h 6s 4s',\n",
       "       '4d Ts 3s 5s 6h', '8d 9d 4d 3d 7h', '7d 8h Ts 5h 9h',\n",
       "       'Th 4s Jh 8d 9c', '6d 5d 7d 3s Jd', '7c Th 9c 3h 8c',\n",
       "       'Jh 9d 8d 5d 7c', '6c 8h Qc 7s 9d', 'Td Jh 9s 6c 8s',\n",
       "       '9s Ts Qh 8d 2s', '7h 6c 9d 8s Ah', '8h 7s Ts 9c 2d',\n",
       "       'Td 3d 9h 2d 6d', '7h 3h Jh Kh 4d', '9s 8c Ts 4d 7c',\n",
       "       '8c Ts 2h 7s 9h', '9h 3h 5d Jh 7h', 'Jh 7c 5c Td 9c',\n",
       "       '7s 6d 8h 8s 5d', '2c 4c 6c 3c Kh', '6c Ts 8s 5s 7d',\n",
       "       '6h 7h 9c 8h 3s', '9s 8s 7s 6c 4h', 'Ts 2s Qs 6s 7h',\n",
       "       '7h 6h 3d 9h 4h', '2c 9c Kc 3s 8c', '7s 5s 6d Ks As',\n",
       "       '8d 4d 3d As 9d', '5c Js 3d 4h 2d', 'Ts 2h 8h 9c Jd',\n",
       "       '2c 5c Tc Jc Jh', '8h 6s 7s 5s 5c', '3c 6c Jc 2c Ks',\n",
       "       '2h 9h 7h 8h 5s', '8d 2d 3d Qs Jd', '9h 7d 6c 8d 2d',\n",
       "       'Th 3h 2h 7c 4h', '8h 9h 5h 4s 2h', '7d 6c 8c 9d Kd',\n",
       "       '6c 9c 8s Qh 7h', 'Th Jd 7s 9d 4s', 'Jh 4h Td Qd 9c',\n",
       "       '8d 7c 6h 5s Qc', '7s Ts 9s 4h 8h', '4s Jd 2d 5h 3s',\n",
       "       '8d 5s Td 7s 6d', '9s 7h 5h Js 8s', '2d 4d As 3d Qd',\n",
       "       '2h 5h 6c 4h Qh', '9s 7s 5s 2h Qs', '5h Js 6h 4s 3d',\n",
       "       '2h 9h 7h Kh 8s', '7d 8h 5h 9d Jc', '3c Jd 2d 5s 4s',\n",
       "       '5h 4h Ts Jh 7h', '6c 7s 8d 9c Ad', '5s 9s Ts 7d 4s',\n",
       "       '8c Tc 7d Kh Js', '7d 2d Ad 4c 9d', '4d 9d 8d As 2d',\n",
       "       'Th Qh 8c 7d 6h'], dtype='<U14')"
      ]
     },
     "execution_count": 16,
     "metadata": {},
     "output_type": "execute_result"
    }
   ],
   "source": [
    "# Very drawy kind of hands\n",
    "flop_cards[np.where(flop_raw_data_classes == 32)]"
   ]
  },
  {
   "cell_type": "code",
   "execution_count": 13,
   "metadata": {},
   "outputs": [
    {
     "data": {
      "text/plain": [
       "array(['Ah 7s Qc 3h 5s', '5d Ac Ks 3s Td', '2h 2c Jd Kh 6h',\n",
       "       '6d As Tc Qh 4d', 'Qd 8h Ks As 3h', 'Kc 2d Qd Ad 3h',\n",
       "       'Kc 5d 6h Ac 7s', 'Ac 5d Qc 6s 2h', '2c 2h 7h 6d 6s',\n",
       "       'Kd 4c 5h 8s 5c', '3h Ks 4h 5c Ah', '2c 2s Ks 8c Qc',\n",
       "       'Ah 4c 3s 6d Jc', '3c 3h 8d 9c 4s', '3d 3h 7s Ac 6h',\n",
       "       '6d Ac 5s 2c Jh', 'Ac 8d Qc 9h 4d', 'Kd Td 2s 2h 4h',\n",
       "       'Kh 9c 3d 8s Ah', 'Ac 9s 4c Ks 8h', '2c 2s 7d 7c 5s',\n",
       "       'Ah 5d 6c Qs 8d', '2d Kh 6d 6c 4s', 'Js Ks 4h Tc 9h',\n",
       "       '7c Js Ah 8s 8c', '8h Qc Kc As 4d', 'Ah 8d 2h Qd 3c',\n",
       "       '5d 2s 5h 7h Ah', 'Kd 8s 6d 4s 4h', '3h 3c 5h 8s Th',\n",
       "       '9s Jc 5c 7c Qc', '2c 2h Tc 5d Ad', 'Qd 9d 7c Jc Kh',\n",
       "       '4c 4h 9c Ah Ts', 'Jc Ah 2d 9h 5s', 'Qs Ac 3s 8d 9d',\n",
       "       'As 2s Kd Th 5c', 'Td Kc Qs 2h 9h', '3c Ah 6d Jc 5c',\n",
       "       '4d As Qd 7d 6s', '9c 2c 2d 6s 4s', 'Kh 4d 3d 7c 3c',\n",
       "       '8h Ac 2c 3d Ks', 'As 2h 5d 3c Qs', '3s 3d Qd 9s 7d',\n",
       "       'Ad 9h Qs 3h 5d', '6d Ah Kc 5s Qh', '4s 4d 9h 5s Td',\n",
       "       '6c Ad 7c 9s Th', '4d 4h 5c Kd Qc', 'Kd 2c Qc 8h Qd',\n",
       "       '6c Ah 2c 9c 5s', '2s Kc 8s 8h 3c', 'Td Qh 2h 8h 2d',\n",
       "       '8c Ah Kd 3h 9d', 'Ah 8h 5c 4s Qd', '2d 2s Qc Ks 9s',\n",
       "       'Kc 9d 3d Qs Js', '7h As Kc Qc 6s', 'Jh Ac 6s Td 8d',\n",
       "       '9h Qd 5h Td Kc', '3d 3c Td Js 7d', '2d 2h Ks 8c 3d',\n",
       "       'Kd 3s Ts Tc 5d', '7h Ad 3c Qd 6h', '6d Ac Qd Ks 9c',\n",
       "       '9h As 3c 2h 7c', 'Qs Kc Js 3s 8d', '6c Ad Kc 3h 2c',\n",
       "       '7s Qc Ad 2h Ah', '2d 2h 8s 4d Qc', '3s 3c Kd Js 5c',\n",
       "       '6d Qs 5s Js 8s', '7c Ah 8h 2d Jc', 'As 8s Qd Kh 2h',\n",
       "       'Qd Js 9d Ks 4h', '8d Qd Ac As 5c', '6d Kh 8d 9s Ad',\n",
       "       '2c 4h 9s 2s 3s', '2c Ks 9c 5d 9s', 'Jc Td 8h Kd Ks',\n",
       "       '7c Kh Ts Th 3s', '3h 3c Qh Td 8s', 'Ks 9s Ac 2d Tc',\n",
       "       '8c Ac 2h 7h 4s', 'Ad 4c Th Kc 3d', '7s Ac 3h 4s Kd',\n",
       "       'Qs Ad 4h 3h 8s', 'Kh 7c Ts 9h As', '5d As Qc 9d 7d',\n",
       "       '4h Kd Ac 8h 2s', '2d 2c Js Ah 7d', '4c 4d Td Ks As',\n",
       "       '7s Jc 8s 8h 8c', '2d Qc Kh Ad 5s', 'Qc Kh 9d 8c Jc',\n",
       "       '9h Qh 2d 2h Jc', '6h Ad 7c 3s 9d', 'Qs 9c Js 6h Kc',\n",
       "       'Kd 9s 7h 2h Ac', 'Ac 4d 5h Qs 8c', 'Th 7c Ac Jh Qs',\n",
       "       '2s 2d 8s Ad 5s', '2s 2d Kc Ad 4c', '2c Kh 4c Ad 5h',\n",
       "       '2s 2c Js Ac 8c', '6h Kc 5s 5d Qs', 'Kc 9s 7d As 2c',\n",
       "       '3c 3d 5h As 8d', '8d Ks 5d 7h 9d', 'As 6h 7h 2s 9d',\n",
       "       '6c Ad 5c 9d 2c', 'Ad Jd 5s 2c 8h', 'Ah 5s Qd 3h Kd',\n",
       "       '3s 3d Qc 7d 4c', 'Ks Qh 4h 9d 2h', 'Kd Tc 8h 6h 6c',\n",
       "       'As 3c 4c Qh Jd', '7d Qs 4c As Ah', 'Kd 8c Qc 9c Th',\n",
       "       'Td As 9c 4c 3s', '3c 3s 7s 6d 5h', 'Ac 9s Qd 3d Kc',\n",
       "       '2h Ah Qs Jc Tc', 'Qc Ad 6c 3c 9s', '9c Ac Qd 7h Kh',\n",
       "       '2d 2h Kd 3s 7h', 'Kd 9h Ah Jc 6c', 'As 2c Qh Kc 3c',\n",
       "       'Ad 3s Kh Js 5h', 'Qh 3d 6s 6c Ac', 'Ad 5s Jc 6h 8s',\n",
       "       '3s 2h 9c 3c Kc', 'Jd Kc 7s 2d As', 'Tc Ah 6s 8c 7s',\n",
       "       'Ah 8h 2c 3s Qd', 'Ks As 6h 9c 3d', '3c 2c 2h Ah 8h',\n",
       "       'Qs Jh 8s 8h 3h', '5d Ac 6d 2h 9s', '8d Kc 2s Qs Ad',\n",
       "       'As 7d 5h Kh 8c', 'Kd 4d 8s Th 8c', 'Qc 9d 8s Kh As',\n",
       "       '2h 7s 4c 3d 2d', '2c Ts 5d 4s 2d', 'Ac Ts 9h 3h Kd',\n",
       "       'Kd 5h 8h Td Ts', 'Kc 5h 7h Ad 8h', 'Tc As 5c 4h 9d',\n",
       "       'Ah 6c Qd 5c 4h', '6h Kc 3d Jc Jd', 'Qc 9d 7h Kd Tc',\n",
       "       'Kh 9s 6d Qh 7c', '3c 3s Ts 9s 4c', '2d 2c Qd Kd 6s',\n",
       "       '3s 3d Qh 4s 7c', 'Ac Jc Kd 9h 6h', 'Ks 4h Qd 8s Qc',\n",
       "       '5h Ad Kh 6d Jc', '3d 3s Ac Qh 7c', '8d As 6d 2d Kh',\n",
       "       '7s Ad 9h 6c 2c', '2s 2h 4s Ks 8c', 'Ac 7s 2h 3c Qc',\n",
       "       'Jh 4d 6d 6h 6c', 'Td Ac 5d 4c 2h', 'Ah 9h 4d 8s Kc',\n",
       "       'Ad 5h 6c 7h Qc', '7c Qd 3h Ah Ac', '2h 2c 6c Qs 3d',\n",
       "       'Ah 8c Jc 2c 4s', '3s 3d 9h 6d 4c', 'Th Ac 5c 4d 3h',\n",
       "       'As 6c Td 2s 4h', 'Qd 4c Ad 5s As', 'Kh Qd As 3c 5d',\n",
       "       '3c 3s Ks 9d Qc', '6d Kc 2d 3d Jd', '6h Ac 7c 9h Ks',\n",
       "       '4h Ac Kh 5d 8s', 'Tc Ks 4h 4d 6c', '3c Ks 5h 6h 5s',\n",
       "       'Ac 6d 2d Qc Kh', '3d 3h Jh 4h 7c', 'Ac 5d 7c 6h Kh',\n",
       "       '3c 3h 8d 4h 5c', 'Ah Tc 5c 9s 4h', '3h As Kc Js 4c',\n",
       "       '2c 2s Qs 9h 5d', 'Ks 4s 7c Jh Jd', '9d As Kh 8c 6h',\n",
       "       'Tc Ks 4d 4s 3d', 'Ks 9s Jd 4c Ah', 'As Js 9h 7d 4c',\n",
       "       '7s Ad 2h 3d Kh', '2d 7h 4s 3c 2c', 'As 9s Kd 2c 8d',\n",
       "       '2s 2h 3c 8h Qc', 'Kh 8d Jc As 2h', 'Kh 5c 9d 4s Ah',\n",
       "       'Kh Ts 7h 4s 9h', 'Ks Jd 7d Th 2c', 'Kh Tc 5s Jd 9d',\n",
       "       '2h 2d 4c 3s Qd', 'Ad 8s 9s Qh Kd', '8c Kc 6s 5d Ah',\n",
       "       'Ah 6d 9h Qs Kc', '5s Kd 2h 4d 4h', 'Qs Jd Tc 7c Kc',\n",
       "       'Ac 6h Qh Ts Jd', '3s Kd Js 7d Ac', 'Ah 8c 9h 2s Qd',\n",
       "       '9d Ah Qd Js 5s', '4s Ac 3c Qs Th', 'Ah 8c 7s Kd 3h',\n",
       "       '7h Ac Qh 3h 4s', '2h Th 2c 8c 3c', 'Ac 6h 5h Ts 2d',\n",
       "       '7c Ah Qs 3c Jh', 'Ah Ks 8h 9h 5c', '9h Qs 3c Kd Th',\n",
       "       '3h Th 6c 9c 3c', 'Jd 9h 8h Kd Qc', 'Qd Ac 7h 4s 9s',\n",
       "       '3c Qs 6s Kc 6d', 'Th Kd 7h 2d Js', 'Ad 9c 4s Qd 3c',\n",
       "       'As 3h 7s Qs 4c', '8h Ad Jc Kc 2s', 'Kh Jd 2h 3d Qs',\n",
       "       'Ah Ks 6c 5h 9d', 'Ah 9h 2c 7s 3c', '9d Ad Qc Th 4h',\n",
       "       '7c Jh 4c Qc Tc', 'Kc 9h 4d Jd Th', 'Qd Ad 4c Kc 6s',\n",
       "       '2s 2h 4d 3c Td', '2s Ah Tc 3s Js', '6h Ac 2s 7d Kc',\n",
       "       'Ts 2d 5h 3s 2h', '6s Ac 3h 8d 9s', 'Ah 6d Ks 2d 7h',\n",
       "       'Td Qh 2d 2s 8d'], dtype='<U14')"
      ]
     },
     "execution_count": 13,
     "metadata": {},
     "output_type": "execute_result"
    }
   ],
   "source": [
    "# Pocket 2s, Ace high kind of hands, no draws\n",
    "flop_cards[np.where(flop_raw_data_classes == 33)]"
   ]
  },
  {
   "cell_type": "markdown",
   "metadata": {},
   "source": [
    "The raw data is 10 dimensional, so we first run PCA to reduce this data down to 3 dimensions."
   ]
  },
  {
   "cell_type": "code",
   "execution_count": null,
   "metadata": {},
   "outputs": [],
   "source": [
    "from sklearn.decomposition import PCA\n",
    "import plotly.express as px\n",
    "import plotly.graph_objects as go\n",
    "import pandas as pd"
   ]
  },
  {
   "cell_type": "code",
   "execution_count": null,
   "metadata": {},
   "outputs": [],
   "source": [
    "pca_3d = PCA(n_components=3) # 3D vizualization"
   ]
  },
  {
   "cell_type": "code",
   "execution_count": null,
   "metadata": {},
   "outputs": [],
   "source": [
    "PCs_3d = pca_3d.fit_transform(flop_raw_data)\n",
    "PCs_3d_centroids = pca_3d.fit_transform(flop_kmeans_centroids)"
   ]
  },
  {
   "cell_type": "code",
   "execution_count": null,
   "metadata": {},
   "outputs": [],
   "source": [
    "df = pd.DataFrame(PCs_3d, columns=['dim1', 'dim2', 'dim3'])\n",
    "df_centoids = pd.DataFrame(PCs_3d_centroids, columns=['dim1', 'dim2', 'dim3'])\n"
   ]
  },
  {
   "cell_type": "code",
   "execution_count": null,
   "metadata": {},
   "outputs": [
    {
     "data": {
      "text/plain": [
       "[\"Player Cards: ['Qc', 'Qs'], Community Cards: ['Qd', 'Kh', 'Td'], Class: 5, EHS: 0.88\",\n",
       " \"Player Cards: ['9c', 'Jh'], Community Cards: ['8h', '2s', '6h'], Class: 25, EHS: 0.39\",\n",
       " \"Player Cards: ['5d', 'Th'], Community Cards: ['3s', '6s', '9c'], Class: 38, EHS: 0.28\",\n",
       " \"Player Cards: ['7h', '9h'], Community Cards: ['8s', '4s', '9c'], Class: 7, EHS: 0.75\",\n",
       " \"Player Cards: ['8d', 'Js'], Community Cards: ['Ts', '3d', '2s'], Class: 40, EHS: 0.39\"]"
      ]
     },
     "execution_count": 22,
     "metadata": {},
     "output_type": "execute_result"
    }
   ],
   "source": [
    "marker_text = []\n",
    "for i, card_string in enumerate(flop_cards):\n",
    "\tcards = card_string.split(' ')\n",
    "\tassert(len(cards) == 5)\n",
    "\tmarker_text.append(f'Player Cards: {cards[:2]}, Community Cards: {cards[2:]}, Class: {flop_raw_data_classes[i]}, EHS: {ehs_flop_raw_data[i]:.2f}')\n",
    "marker_text[:5]"
   ]
  },
  {
   "cell_type": "code",
   "execution_count": null,
   "metadata": {},
   "outputs": [
    {
     "data": {
      "text/plain": [
       "' TODO:\\n- Add Title\\n- Animate rotation https://community.plotly.com/t/how-to-animate-a-rotation-of-a-3d-plot/20974\\n'"
      ]
     },
     "execution_count": 23,
     "metadata": {},
     "output_type": "execute_result"
    }
   ],
   "source": [
    "\"\"\" TODO:\n",
    "- Add Title\n",
    "- Animate rotation https://community.plotly.com/t/how-to-animate-a-rotation-of-a-3d-plot/20974\n",
    "\"\"\""
   ]
  },
  {
   "cell_type": "code",
   "execution_count": null,
   "metadata": {},
   "outputs": [],
   "source": [
    "fig = go.Figure()\n",
    "fig.add_trace(go.Scatter3d(x=PCs_3d[:, 0], y=PCs_3d[:,1], z=PCs_3d[:,2],\n",
    "                        hovertemplate='<b>%{text}</b><extra></extra>',\n",
    "                        text=marker_text,\n",
    "                        marker=dict(\n",
    "                            size=2,\n",
    "                            color=flop_raw_data_classes\n",
    "                        ),\n",
    "                        mode='markers',\n",
    "))\n",
    "fig.update_layout(title=dict(text=f\"Flop Abstraction ({flop_kmeans_centroids.shape[0]} Clusters)\", font=dict(size=28)), title_x=0.5, scene=dict(\n",
    "                  xaxis_title=\"Dimension 1\",\n",
    "                  yaxis_title=\"Dimension 2\",\n",
    "                  zaxis_title=\"Dimension 3\")\n",
    ")\n",
    "# fig.show()\n",
    "fig.show(renderer='browser')"
   ]
  },
  {
   "cell_type": "markdown",
   "metadata": {},
   "source": [
    "# Turn Visualization\n",
    "Same steps as for flop."
   ]
  },
  {
   "cell_type": "code",
   "execution_count": null,
   "metadata": {},
   "outputs": [],
   "source": [
    "kmeans_turn = joblib.load('../kmeans_data/kmeans/turn/kmeans_1719904417_samples=10000_bins=10.joblib')\n",
    "raw_data = np.load('../kmeans_data/distributions/turn/1719904417_samples=10000_bins=10.npy')\n",
    "cards = np.load('../kmeans_data/cards/turn/1719904417_samples=10000_bins=10.npy')\n",
    "\n",
    "# Convert histograms to EHS\n",
    "ehs_raw_data = (raw_data * np.array([0.05, 0.15, 0.25, 0.35, 0.45, 0.55, 0.65, 0.75, 0.85, 0.95])).sum(axis=1)\n",
    "\n",
    "kmeans = kmeans_turn\n",
    "raw_data_classes = kmeans.predict(raw_data)\n",
    "kmeans_centroids = kmeans.cluster_centers_\n",
    "\n",
    "pca_3d = PCA(n_components=3) # 3D vizualization\n",
    "PCs_3d = pca_3d.fit_transform(raw_data)\n",
    "PCs_3d_centroids = pca_3d.fit_transform(kmeans_centroids)\n",
    "\n",
    "df = pd.DataFrame(PCs_3d, columns=['dim1', 'dim2', 'dim3'])\n",
    "df_centoids = pd.DataFrame(PCs_3d_centroids, columns=['dim1', 'dim2', 'dim3'])\n",
    "\n",
    "marker_text = []\n",
    "for i, card_string in enumerate(cards):\n",
    "\tcards = card_string.split(' ')\n",
    "\tassert(len(cards) == 6)\n",
    "\tmarker_text.append(f'Player Cards: {cards[:2]}, Community Cards: {cards[2:]}, Class: {raw_data_classes[i]}, EHS: {ehs_raw_data[i]:.2f}')\n",
    "\n",
    "# # https://stackoverflow.com/questions/61227248/plotly-how-to-create-custom-hover-labels-for-plotly-3d-scatter-figures\n",
    "fig = go.Figure()\n",
    "fig.add_trace(go.Scatter3d(x=PCs_3d[:, 0], y=PCs_3d[:,1], z=PCs_3d[:,2],\n",
    "                        hovertemplate='<b>%{text}</b><extra></extra>',\n",
    "                        text=marker_text,\n",
    "                        marker=dict(\n",
    "                            size=2,\n",
    "                            color=raw_data_classes\n",
    "                        ),\n",
    "                        mode='markers'\n",
    "))\n",
    "\n",
    "fig.update_layout(title=dict(text=f\"Turn Abstraction ({kmeans_centroids.shape[0]} Clusters)\", font=dict(size=28)), title_x=0.5, scene=dict(\n",
    "                  xaxis_title=\"Dimension 1\",\n",
    "                  yaxis_title=\"Dimension 2\",\n",
    "                  zaxis_title=\"Dimension 3\")\n",
    ")\n",
    "# fig.show()\n",
    "fig.show(renderer='browser')"
   ]
  }
 ],
 "metadata": {
  "kernelspec": {
   "display_name": "Python 3.10.8 64-bit",
   "language": "python",
   "name": "python3"
  },
  "language_info": {
   "codemirror_mode": {
    "name": "ipython",
    "version": 3
   },
   "file_extension": ".py",
   "mimetype": "text/x-python",
   "name": "python",
   "nbconvert_exporter": "python",
   "pygments_lexer": "ipython3",
   "version": "3.10.12"
  },
  "orig_nbformat": 4,
  "vscode": {
   "interpreter": {
    "hash": "b0fa6594d8f4cbf19f97940f81e996739fb7646882a419484c72d19e05852a7e"
   }
  }
 },
 "nbformat": 4,
 "nbformat_minor": 2
}
